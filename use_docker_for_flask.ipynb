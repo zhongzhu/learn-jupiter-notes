{
 "cells": [
  {
   "cell_type": "markdown",
   "metadata": {},
   "source": [
    "## Use Docker to package Flask REST APP (Flask-RestPlus + gunicorn + gevent)\n",
    "* create a folder my_flask\n",
    "* cd my_flask\n",
    "* touch app.py"
   ]
  },
  {
   "cell_type": "markdown",
   "metadata": {},
   "source": [
    "* app.py contents"
   ]
  },
  {
   "cell_type": "code",
   "execution_count": null,
   "metadata": {},
   "outputs": [],
   "source": [
    "# app.py\n",
    "\n",
    "from flask import Flask\n",
    "from flask_restplus import Resource, Api, fields\n",
    "from flask_httpauth import HTTPTokenAuth\n",
    "import jwt\n",
    "\n",
    "todos = {}\n",
    "\n",
    "authorizations = {\n",
    "    'apikey': {\n",
    "        'type': 'apiKey',\n",
    "        'in': 'header',\n",
    "        'name': 'Authorization'\n",
    "    }\n",
    "}\n",
    "\n",
    "app = Flask(__name__)\n",
    "api = Api(app, authorizations=authorizations, security='apikey')\n",
    "app.config['SECRET_KEY'] = 'donottellanyone'\n",
    "auth = HTTPTokenAuth('Bearer')\n",
    "\n",
    "apikeys = ['key1', 'key2']\n",
    "for key in apikeys:\n",
    "    print('*** token for {}: {}\\n'.format(key, jwt.encode({'apikey': key}, app.config['SECRET_KEY'])))\n",
    "\n",
    "@auth.verify_token\n",
    "def verify_token(token):\n",
    "    try:\n",
    "        key = jwt.decode(token, app.config['SECRET_KEY'])['apikey']\n",
    "    except:\n",
    "        return False\n",
    "    \n",
    "    return key in apikeys\n",
    "\n",
    "todo_item = api.model('Todo', {'todo': fields.String('Describe your todo in a sentence.')})\n",
    "\n",
    "@api.route('/todo/<int:todo_id>')\n",
    "class Todo(Resource):\n",
    "    @auth.login_required\n",
    "    def get(self, todo_id):\n",
    "        if not todo_id in todos:\n",
    "            return {'message': 'invalid todo id'}, 401\n",
    "        return {todo_id: todos[todo_id]}\n",
    "\n",
    "@api.route('/todo')\n",
    "class TodoList(Resource):\n",
    "    @auth.login_required\n",
    "    def get(self):\n",
    "        return todos\n",
    "\n",
    "    @api.expect(todo_item)\n",
    "    @auth.login_required\n",
    "    def put(self):\n",
    "        todo_id = len(todos) + 1\n",
    "        todos[todo_id] = api.payload['todo']\n",
    "        return {todo_id: todos[todo_id]}"
   ]
  },
  {
   "cell_type": "markdown",
   "metadata": {},
   "source": [
    "* gunicorn.conf.py contents"
   ]
  },
  {
   "cell_type": "markdown",
   "metadata": {},
   "source": [
    "    workers = 5    # 定义同时开启的处理请求的进程数量，根据网站流量适当调整\n",
    "    worker_class = \"gevent\"   # 采用gevent库，支持异步处理请求，提高吞吐量\n",
    "    bind = \"0.0.0.0:5000\"    # 监听IP放宽，以便于Docker之间、Docker和宿主机之间的通信"
   ]
  },
  {
   "cell_type": "markdown",
   "metadata": {},
   "source": [
    "* requirements.txt contents"
   ]
  },
  {
   "cell_type": "markdown",
   "metadata": {},
   "source": [
    "    flask\n",
    "    flask-restplus\n",
    "    Flask-HTTPAuth\n",
    "    pyjwt\n",
    "    gunicorn\n",
    "    gevent"
   ]
  },
  {
   "cell_type": "markdown",
   "metadata": {},
   "source": [
    "* Dockerfile content"
   ]
  },
  {
   "cell_type": "markdown",
   "metadata": {},
   "source": [
    "    FROM python:3\n",
    "    WORKDIR /usr/src/app\n",
    "    COPY requirements.txt ./\n",
    "    RUN pip install --no-cache-dir -r requirements.txt\n",
    "    COPY . .  \n",
    "    CMD [\"gunicorn\", \"app:app\", \"-c\", \"./gunicorn.conf.py\"]"
   ]
  },
  {
   "cell_type": "markdown",
   "metadata": {},
   "source": [
    "* docker build -t my_flask:v1.0 .\n",
    "* docker run -d -p 5000:5000 --name my-flask1 my_flask:v1.0\n",
    "* open browser http://localhost:5000 to use the Flask REST API\n",
    "* docker stop my-flask1"
   ]
  },
  {
   "cell_type": "markdown",
   "metadata": {},
   "source": [
    "## Use Docker to package Flask REST APP (Flask-RestPlus + NGINX + uWSGI)\n",
    "* create a folder my_flask2\n",
    "* cd my_flask2\n",
    "* touch Dockerfile\n",
    "* touch requirements.txt\n",
    "* mkdir app\n",
    "* touch app/main.py\n",
    "* main.py shoud have the same contents as app.py above"
   ]
  },
  {
   "cell_type": "markdown",
   "metadata": {},
   "source": [
    "* requirements.txt contents"
   ]
  },
  {
   "cell_type": "markdown",
   "metadata": {},
   "source": [
    "    flask-restplus\n",
    "    Flask-HTTPAuth\n",
    "    pyjwt"
   ]
  },
  {
   "cell_type": "markdown",
   "metadata": {},
   "source": [
    "* Dockerfile contents "
   ]
  },
  {
   "cell_type": "markdown",
   "metadata": {},
   "source": [
    "    FROM tiangolo/uwsgi-nginx-flask:python3.6-alpine3.7\n",
    "    COPY requirements.txt ./\n",
    "    RUN pip install --no-cache-dir -r requirements.txt\n",
    "    COPY ./app /app"
   ]
  },
  {
   "cell_type": "markdown",
   "metadata": {},
   "source": [
    "* docker build -t my_flask2:V1.0 .\n",
    "* docker run --rm -d --name mycontainer -p 80:80 my_flask2:V1.0\n",
    "* open browser http://localhost\n",
    "* docker stop mycontainer"
   ]
  },
  {
   "cell_type": "code",
   "execution_count": null,
   "metadata": {},
   "outputs": [],
   "source": []
  }
 ],
 "metadata": {
  "kernelspec": {
   "display_name": "Python 3",
   "language": "python",
   "name": "python3"
  },
  "language_info": {
   "codemirror_mode": {
    "name": "ipython",
    "version": 3
   },
   "file_extension": ".py",
   "mimetype": "text/x-python",
   "name": "python",
   "nbconvert_exporter": "python",
   "pygments_lexer": "ipython3",
   "version": "3.6.4"
  }
 },
 "nbformat": 4,
 "nbformat_minor": 2
}
