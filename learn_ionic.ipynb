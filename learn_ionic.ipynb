{
 "cells": [
  {
   "cell_type": "markdown",
   "metadata": {},
   "source": [
    "# Learn Ionic\n",
    "\n",
    "* The website: https://ionicframework.com/\n",
    "* TypeScript"
   ]
  },
  {
   "cell_type": "markdown",
   "metadata": {},
   "source": [
    "## Ionic official APP's\n",
    "    * Ionic DevApp: rapid local development and testing\n",
    "    * new Ionic View: helping to share and test apps with users"
   ]
  },
  {
   "cell_type": "markdown",
   "metadata": {},
   "source": [
    "## Setup Ionic dev env on Macbook\n",
    "\n",
    "* Node.js\n",
    "    * verify\n",
    "        * node --version\n",
    "        * npm --version\n",
    "* ionic and cordova\n",
    "    * sudo npm install -g ionic cordova\n",
    "* ios\n",
    "    * install Xcode\n",
    "* android\n",
    "    * install Android Studio\n",
    "    * install Android SDK in Android Studio"
   ]
  },
  {
   "cell_type": "markdown",
   "metadata": {},
   "source": [
    "## Your first APP\n",
    "* ionic start myApp tabs\n",
    "    * myApp: folder name and APP name\n",
    "    * tabs: starter template for myApp\n",
    "* cd myApp\n",
    "* ionic serve\n",
    "\n",
    "APP will show in safari browser"
   ]
  },
  {
   "cell_type": "markdown",
   "metadata": {},
   "source": [
    "## official tempaltes\n",
    "* `tabs` : a simple 3 tab layout\n",
    "* `sidemenu`: a layout with a swipable menu on the side\n",
    "* `blank`: a bare starter with a single page\n",
    "* `super`: starter project with over 14 ready to use page designs\n",
    "* `tutorial`: a guided starter project"
   ]
  },
  {
   "cell_type": "markdown",
   "metadata": {},
   "source": [
    "## Test your first APP in Ionic DevApp\n",
    "* install Ionic DevApp (an Android APP, install it from Google Play)\n",
    "* open DevApp and login with Ionic account\n",
    "* your Macbook and Ionic DevApp must connect to the same WIFI\n",
    "* cd myApp\n",
    "* ionic serve -c\n",
    "* in DevApp, open myAPP"
   ]
  },
  {
   "cell_type": "code",
   "execution_count": null,
   "metadata": {},
   "outputs": [],
   "source": []
  }
 ],
 "metadata": {
  "kernelspec": {
   "display_name": "Python 3",
   "language": "python",
   "name": "python3"
  },
  "language_info": {
   "codemirror_mode": {
    "name": "ipython",
    "version": 3
   },
   "file_extension": ".py",
   "mimetype": "text/x-python",
   "name": "python",
   "nbconvert_exporter": "python",
   "pygments_lexer": "ipython3",
   "version": "3.6.4"
  }
 },
 "nbformat": 4,
 "nbformat_minor": 2
}
