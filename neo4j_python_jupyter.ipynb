{
 "cells": [
  {
   "cell_type": "markdown",
   "metadata": {},
   "source": [
    "### pip install neo4j"
   ]
  },
  {
   "cell_type": "code",
   "execution_count": 4,
   "metadata": {},
   "outputs": [
    {
     "name": "stdout",
     "output_type": "stream",
     "text": [
      " n                                                      \n",
      "--------------------------------------------------------\n",
      " (b58f59e:Person {born:1964,name:\"Keanu Reeves\"})       \n",
      " (aa72dab:Person {born:1967,name:\"Carrie-Anne Moss\"})   \n",
      " (f5909b2:Person {born:1961,name:\"Laurence Fishburne\"}) \n",
      " (f3041b2:Person {born:1960,name:\"Hugo Weaving\"})       \n",
      " (af92ef0:Person {born:1967,name:\"Lilly Wachowski\"})    \n",
      " (d757dcd:Person {born:1965,name:\"Lana Wachowski\"})     \n",
      " (f799ec1:Person {born:1952,name:\"Joel Silver\"})        \n",
      " (c35a92d:Person {born:1978,name:\"Emil Eifrem\"})        \n",
      " (fda157d:Person {born:1975,name:\"Charlize Theron\"})    \n",
      " (ec97e18:Person {born:1940,name:\"Al Pacino\"})          \n"
     ]
    }
   ],
   "source": [
    "from py2neo import authenticate, Graph\n",
    "#authenticate(\"localhost:7474\", \"neo4j\", \"1234\")\n",
    "graph = Graph(password=\"1234\")\n",
    "\n",
    "graph.run(\"match(n:Person) return n limit 10\").dump()"
   ]
  },
  {
   "cell_type": "code",
   "execution_count": 5,
   "metadata": {},
   "outputs": [
    {
     "ename": "AttributeError",
     "evalue": "'Graph' object has no attribute 'cypher'",
     "output_type": "error",
     "traceback": [
      "\u001b[0;31m---------------------------------------------------------------------------\u001b[0m",
      "\u001b[0;31mAttributeError\u001b[0m                            Traceback (most recent call last)",
      "\u001b[0;32m<ipython-input-5-f1dc1cf74737>\u001b[0m in \u001b[0;36m<module>\u001b[0;34m()\u001b[0m\n\u001b[1;32m      1\u001b[0m \u001b[0;32mfrom\u001b[0m \u001b[0mpy2neo\u001b[0m \u001b[0;32mimport\u001b[0m \u001b[0mPath\u001b[0m\u001b[0;34m\u001b[0m\u001b[0m\n\u001b[1;32m      2\u001b[0m \u001b[0;34m\u001b[0m\u001b[0m\n\u001b[0;32m----> 3\u001b[0;31m \u001b[0mtx\u001b[0m \u001b[0;34m=\u001b[0m \u001b[0mgraph\u001b[0m\u001b[0;34m.\u001b[0m\u001b[0mcypher\u001b[0m\u001b[0;34m.\u001b[0m\u001b[0mbegin\u001b[0m\u001b[0;34m(\u001b[0m\u001b[0;34m)\u001b[0m\u001b[0;34m\u001b[0m\u001b[0m\n\u001b[0m\u001b[1;32m      4\u001b[0m \u001b[0;32mfor\u001b[0m \u001b[0mname\u001b[0m \u001b[0;32min\u001b[0m \u001b[0;34m[\u001b[0m\u001b[0;34m\"Alice\"\u001b[0m\u001b[0;34m,\u001b[0m \u001b[0;34m\"Bob\"\u001b[0m\u001b[0;34m,\u001b[0m \u001b[0;34m\"Carol\"\u001b[0m\u001b[0;34m]\u001b[0m\u001b[0;34m:\u001b[0m\u001b[0;34m\u001b[0m\u001b[0m\n\u001b[1;32m      5\u001b[0m     \u001b[0mtx\u001b[0m\u001b[0;34m.\u001b[0m\u001b[0mappend\u001b[0m\u001b[0;34m(\u001b[0m\u001b[0;34m\"CREATE (person:Person {name:{name}}) RETURN person\"\u001b[0m\u001b[0;34m,\u001b[0m \u001b[0mname\u001b[0m\u001b[0;34m=\u001b[0m\u001b[0mname\u001b[0m\u001b[0;34m)\u001b[0m\u001b[0;34m\u001b[0m\u001b[0m\n",
      "\u001b[0;31mAttributeError\u001b[0m: 'Graph' object has no attribute 'cypher'"
     ]
    }
   ],
   "source": [
    "from py2neo import Path\n",
    "\n",
    "tx = graph.cypher.begin()\n",
    "for name in [\"Alice\", \"Bob\", \"Carol\"]:\n",
    "    tx.append(\"CREATE (person:Person {name:{name}}) RETURN person\", name=name)\n",
    "alice, bob, carol = [result.one for result in tx.commit()]\n",
    "\n",
    "friends = Path(alice, \"KNOWS\", bob, \"KNOWS\", carol)\n",
    "graph.create(friends)"
   ]
  },
  {
   "cell_type": "code",
   "execution_count": null,
   "metadata": {},
   "outputs": [],
   "source": []
  }
 ],
 "metadata": {
  "kernelspec": {
   "display_name": "Python 3",
   "language": "python",
   "name": "python3"
  },
  "language_info": {
   "codemirror_mode": {
    "name": "ipython",
    "version": 3
   },
   "file_extension": ".py",
   "mimetype": "text/x-python",
   "name": "python",
   "nbconvert_exporter": "python",
   "pygments_lexer": "ipython3",
   "version": "3.6.4"
  }
 },
 "nbformat": 4,
 "nbformat_minor": 2
}
