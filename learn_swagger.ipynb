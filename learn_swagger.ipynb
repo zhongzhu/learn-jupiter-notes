{
 "cells": [
  {
   "cell_type": "markdown",
   "metadata": {},
   "source": [
    "## Use Swagger to design and generate REST API\n",
    "### Run Swagger Editor with Docker\n",
    "* docker run -p 8080:8080 swaggerapi/swagger-editor\n",
    "### Run Swagger CodeGen with Docker\n",
    "* docker pull swaggerapi/swagger-generator\n",
    "* be sure to set the GENERATOR_HOST based on the IP address of your server!\n",
    "* docker run -d -e GENERATOR_HOST=http://192.168.99.100 -p 80:8080 swaggerapi/swagger-generator\n",
    "\n",
    "### Run Swagger codegen CLI docker image \n",
    "```\n",
    "docker run --rm -v ${PWD}:/local swaggerapi/swagger-codegen-cli generate \\\n",
    "    -i http://petstore.swagger.io/v2/swagger.json \\\n",
    "    -l go \\\n",
    "    -o /local/out/go\n",
    "```"
   ]
  },
  {
   "cell_type": "code",
   "execution_count": null,
   "metadata": {},
   "outputs": [],
   "source": []
  }
 ],
 "metadata": {
  "kernelspec": {
   "display_name": "Python 3",
   "language": "python",
   "name": "python3"
  },
  "language_info": {
   "codemirror_mode": {
    "name": "ipython",
    "version": 3
   },
   "file_extension": ".py",
   "mimetype": "text/x-python",
   "name": "python",
   "nbconvert_exporter": "python",
   "pygments_lexer": "ipython3",
   "version": "3.6.4"
  }
 },
 "nbformat": 4,
 "nbformat_minor": 2
}
