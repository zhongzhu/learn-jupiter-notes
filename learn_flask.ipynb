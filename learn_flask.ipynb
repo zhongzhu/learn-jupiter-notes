{
 "cells": [
  {
   "cell_type": "markdown",
   "metadata": {},
   "source": [
    "## How to build beautiful REST APIs with Flask, Swagger UI and Flask-RESTPlus"
   ]
  },
  {
   "cell_type": "markdown",
   "metadata": {},
   "source": [
    "### set virtual env\n",
    "* python3 -m venv learn_flask\n",
    "* cd learn_flask\n",
    "* source bin/activate"
   ]
  },
  {
   "cell_type": "markdown",
   "metadata": {},
   "source": [
    "### install packages and write code\n",
    "* install the python package: pip install flask\n",
    "* create hello.py, code as below\n",
    "* run in the console \"FLASK_APP=hello.py flask run\"\n",
    "* open browser with \"http://127.0.0.1:5000\", you should be able to see the \"Hello World!\" string"
   ]
  },
  {
   "cell_type": "code",
   "execution_count": null,
   "metadata": {},
   "outputs": [],
   "source": [
    "from flask import Flask\n",
    "app = Flask(__name__)\n",
    "\n",
    "@app.route(\"/\")\n",
    "def hello():\n",
    "    return \"Hello World!\""
   ]
  },
  {
   "cell_type": "markdown",
   "metadata": {},
   "source": [
    "### enable live reload of changed code\n",
    "1. export FLASK_APP=hello.py\n",
    "2. export FLASK_DEBUG=1\n",
    "3. flask run"
   ]
  },
  {
   "cell_type": "markdown",
   "metadata": {},
   "source": [
    "### routing and variables"
   ]
  },
  {
   "cell_type": "code",
   "execution_count": null,
   "metadata": {},
   "outputs": [],
   "source": [
    "from flask import Flask\n",
    "app = Flask(__name__)\n",
    "\n",
    "@app.route('/user/<string:username>')\n",
    "def show_user_profile(username):    \n",
    "    return 'User %s' % getUserProfile(username)\n",
    "\n",
    "@app.route('/post/<int:user_id>')\n",
    "def show_user_profile_by_user_id(user_id):\n",
    "    return 'User %s' % getUserProfileByUserID(user_id)"
   ]
  },
  {
   "cell_type": "markdown",
   "metadata": {},
   "source": [
    "### HTTP methods"
   ]
  },
  {
   "cell_type": "code",
   "execution_count": null,
   "metadata": {},
   "outputs": [],
   "source": [
    "from flask import request\n",
    "\n",
    "@app.route('/login', methods=['GET', 'POST'])\n",
    "def login():\n",
    "    if request.method == 'POST':\n",
    "        do_the_login()\n",
    "    else:\n",
    "        show_the_login_form()"
   ]
  },
  {
   "cell_type": "markdown",
   "metadata": {},
   "source": [
    "### responed with JSON\n",
    "use curl -i http://localhost:5000/onelab/api/v1.0/user/zhongzhu/profile to test result"
   ]
  },
  {
   "cell_type": "code",
   "execution_count": null,
   "metadata": {},
   "outputs": [],
   "source": [
    "from flask import Flask, jsonify, request\n",
    "app = Flask(__name__)\n",
    "\n",
    "@app.route('/onelab/api/v1.0/user/<username>/profile')\n",
    "def profile(username):\n",
    "    id, email, site = [123, 'happy@haha.com', 'Beijing']\n",
    "    return jsonify(result={'id':id, 'email':email, 'site':site})"
   ]
  },
  {
   "cell_type": "markdown",
   "metadata": {},
   "source": [
    "### version?\n",
    "* https://www.haha.com/api/v1.0/ or\n",
    "* https://api.haha.com/v1.0  (maybe this one)"
   ]
  },
  {
   "cell_type": "markdown",
   "metadata": {},
   "source": [
    "## end points\n",
    "* GET /v1/inventory/<uniq-id>  :get item detail info by uniq id\n",
    "* GET /v1/inventory/sn/<id>    :get item detail info by serial number\n",
    "* GET /v1/inventory/search?q=  :search inventory\n",
    "* GET /v1/user/<id>"
   ]
  },
  {
   "cell_type": "markdown",
   "metadata": {},
   "source": [
    "## Operations\n",
    "* GET（SELECT）：从服务器取出资源（一项或多项）。\n",
    "* POST（CREATE）：在服务器新建一个资源。\n",
    "* PUT（UPDATE）：在服务器更新资源（客户端提供改变后的完整资源）。\n",
    "* PATCH（UPDATE）：在服务器更新资源（客户端提供改变的属性）。\n",
    "* DELETE（DELETE）：从服务器删除资源。\n",
    "\n",
    "### Operation examples\n",
    "* GET /zoos：列出所有动物园\n",
    "* POST /zoos：新建一个动物园\n",
    "* GET /zoos/ID：获取某个指定动物园的信息\n",
    "* PUT /zoos/ID：更新某个指定动物园的信息（提供该动物园的全部信息）\n",
    "* PATCH /zoos/ID：更新某个指定动物园的信息（提供该动物园的部分信息）\n",
    "* DELETE /zoos/ID：删除某个动物园\n",
    "* GET /zoos/ID/animals：列出某个指定动物园的所有动物\n",
    "* DELETE /zoos/ID/animals/ID：删除某个指定动物园的指定动物"
   ]
  },
  {
   "cell_type": "markdown",
   "metadata": {},
   "source": [
    "## filtering\n",
    "* ?limit=10：指定返回记录的数量\n",
    "* ?offset=10：指定返回记录的开始位置。\n",
    "* ?page=2&per_page=100：指定第几页，以及每页的记录数。\n",
    "* ?sortby=name&order=asc：指定返回结果按照哪个属性排序，以及排序顺序。\n",
    "* ?animal_type_id=1：指定筛选条件"
   ]
  },
  {
   "cell_type": "markdown",
   "metadata": {},
   "source": [
    "## status code\n",
    "* 200 OK - [GET]：服务器成功返回用户请求的数据，该操作是幂等的（Idempotent）。\n",
    "* 201 CREATED - [POST/PUT/PATCH]：用户新建或修改数据成功。\n",
    "* 202 Accepted - [*]：表示一个请求已经进入后台排队（异步任务）\n",
    "* 204 NO CONTENT - [DELETE]：用户删除数据成功。\n",
    "* 400 INVALID REQUEST - [POST/PUT/PATCH]：用户发出的请求有错误，服务器没有进行新建或修改数据的操作，该操作是幂等的。\n",
    "* 401 Unauthorized - [*]：表示用户没有权限（令牌、用户名、密码错误）。\n",
    "* 403 Forbidden - [*] 表示用户得到授权（与401错误相对），但是访问是被禁止的。\n",
    "* 404 NOT FOUND - [*]：用户发出的请求针对的是不存在的记录，服务器没有进行操作，该操作是幂等的。\n",
    "* 406 Not Acceptable - [GET]：用户请求的格式不可得（比如用户请求JSON格式，但是只有XML格式）。\n",
    "* 410 Gone -[GET]：用户请求的资源被永久删除，且不会再得到的。\n",
    "* 422 Unprocesable entity - [POST/PUT/PATCH] 当创建一个对象时，发生一个验证错误。\n",
    "* 500 INTERNAL SERVER ERROR - [*]：服务器发生错误，用户将无法判断发出的请求是否成功。"
   ]
  },
  {
   "cell_type": "markdown",
   "metadata": {},
   "source": [
    "## return value\n",
    "### return single item\n",
    "### return multiple items\n",
    "```javascript\n",
    "{\n",
    "    code = 200,  //return code\n",
    "    errmsg = \"\", //err message\n",
    "    \"start\" = 0, //item index in total result (used for paging)\n",
    "    \"count\" = 10,  // item count in current reponse (used for paging)\n",
    "    \"total\" = 50,  // total result count (used for paging)\n",
    "    \"data\" = [item1, item2, ...]\n",
    "}\n",
    "```\n",
    "### return error\n"
   ]
  },
  {
   "cell_type": "markdown",
   "metadata": {},
   "source": [
    "### The REST framework is used to:\n",
    "\n",
    "* enforce best practices\n",
    "* simplify: versioning, serialization, documentation, authenication\n",
    "* provide browsable API"
   ]
  },
  {
   "cell_type": "markdown",
   "metadata": {},
   "source": [
    "## Flask-RESTPlus\n",
    "* is based on Flask-RESTFul\n",
    "* define and document end points\n",
    "* validate inputs\n",
    "* format output as JSON\n",
    "* turn python exception into HTTP responses\n",
    "* minimise boilerplate code\n",
    "* generate interactive documentation (Swagger UI)"
   ]
  },
  {
   "cell_type": "markdown",
   "metadata": {},
   "source": [
    "## Open API Specification\n",
    "* Standard language to describe REST APIs\n",
    "* Open source\n",
    "* Tools\n",
    "  * Swagger UI\n",
    "  * Swagger Editor\n",
    "  * Code Generators\n",
    "* http://openapis.org\n",
    "* http://swagger.io"
   ]
  },
  {
   "cell_type": "markdown",
   "metadata": {},
   "source": [
    "### Flask-RESTPlus\n",
    "* FLASK_APP=todo.py FLASK_DEBUG=1 flask run\n",
    "* type below to add 2 todo items\n",
    "    * curl http://localhost:5000/todo1 -d \"data=Drink the milk\" -X PUT\n",
    "    * curl http://localhost:5000/todo2 -d \"data=Go to the Great Wall\" -X PUT\n",
    "* type below to query todo items    \n",
    "    * curl http://localhost:5000/todo1\n",
    "    * curl http://localhost:5000/todo2\n",
    "* or open browser with http://127.0.0.1:5000/ , you'll see the Swagger UI, very handy tool"
   ]
  },
  {
   "cell_type": "code",
   "execution_count": null,
   "metadata": {},
   "outputs": [],
   "source": [
    "from flask import Flask, request\n",
    "from flask_restplus import Resource, Api\n",
    "\n",
    "app = Flask(__name__)\n",
    "api = Api(app)\n",
    "\n",
    "todos = {}\n",
    "\n",
    "\n",
    "@api.route('/<string:todo_id>')\n",
    "class TodoResource(Resource):\n",
    "    def get(self, todo_id):\n",
    "        return {todo_id: todos[todo_id]}\n",
    "\n",
    "    def put(self, todo_id):\n",
    "        todos[todo_id] = request.form['data']\n",
    "        return {todo_id: todos[todo_id]}\n"
   ]
  },
  {
   "cell_type": "markdown",
   "metadata": {},
   "source": [
    "## Authentication - Token based\n",
    "* FLASK_APP=todo.py FLASK_DEBUG=1 flask run\n",
    "* add a todo item\n",
    "    * url http://localhost:5000/todo1 -d \"data=Drink the milk\" -X PUT\n",
    "* query a todo item\n",
    "    * curl -X GET --header 'Accept: application/json' --header 'X-API-KEY: key2' 'http://127.0.0.1:5000/todo1'"
   ]
  },
  {
   "cell_type": "code",
   "execution_count": null,
   "metadata": {},
   "outputs": [],
   "source": [
    "from flask import Flask, request\n",
    "from flask_restplus import Resource, Api\n",
    "from functools import wraps\n",
    "\n",
    "myTokens = ('key1', 'key2', 'key3')\n",
    "authorizations = {\n",
    "    'apikey': {\n",
    "        'type': 'apiKey',\n",
    "        'in': 'header',\n",
    "        'name': 'X-API-KEY'\n",
    "    }\n",
    "}\n",
    "todos = {}\n",
    "\n",
    "app = Flask(__name__)\n",
    "api = Api(app, authorizations=authorizations, security='apikey')\n",
    "\n",
    "def token_required(f):\n",
    "    @wraps(f)\n",
    "    def decorated(*args, **kwargs):\n",
    "        token = None\n",
    "        if 'X-API-KEY' in request.headers:\n",
    "            token = request.headers['X-API-KEY']\n",
    "\n",
    "        if not token:\n",
    "            return {'message': 'Token is missing.'}, 401\n",
    "\n",
    "        print('TOKEN: {}'.format(token))\n",
    "\n",
    "        if not token in myTokens:\n",
    "            return {'message': 'Authentication failed.'}, 401\n",
    "\n",
    "        return f(*args, **kwargs)\n",
    "\n",
    "    return decorated\n",
    "\n",
    "@api.route('/<string:todo_id>')\n",
    "class TodoResource(Resource):\n",
    "    @token_required\n",
    "    def get(self, todo_id):\n",
    "        return {todo_id: todos[todo_id]}\n",
    "\n",
    "    def put(self, todo_id):\n",
    "        todos[todo_id] = request.form['data']\n",
    "        return {todo_id: todos[todo_id]}"
   ]
  }
 ],
 "metadata": {
  "kernelspec": {
   "display_name": "Python 3",
   "language": "python",
   "name": "python3"
  },
  "language_info": {
   "codemirror_mode": {
    "name": "ipython",
    "version": 3
   },
   "file_extension": ".py",
   "mimetype": "text/x-python",
   "name": "python",
   "nbconvert_exporter": "python",
   "pygments_lexer": "ipython3",
   "version": "3.6.4"
  }
 },
 "nbformat": 4,
 "nbformat_minor": 2
}
