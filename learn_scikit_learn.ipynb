{
 "cells": [
  {
   "cell_type": "markdown",
   "metadata": {},
   "source": [
    "## Learn Scikit-Learn\n",
    "\n",
    "### overview\n",
    "* Built on NumPy, SciPy, and matplotlib\n",
    "* 中文文档 http://sklearn.apachecn.org/cn/0.19.0/\n",
    "* 英文文档 http://scikit-learn.org/stable/index.html\n",
    "\n",
    "### features\n",
    "* supervised learning监督学习（train数据包含结果值）\n",
    "    * Classification 分类\n",
    "        * Identifying to which category an object belongs to.\n",
    "        * Applications: Spam detection, Image recognition.\n",
    "    * Regression 回归\n",
    "        * Predicting a continuous-valued attribute associated with an object.\n",
    "        * Applications: Drug response, Stock prices\n",
    "* unsupervised learning无监督学习\n",
    "    * Clustering 聚类\n",
    "        * Automatic grouping of similar objects into sets.\n",
    "        * Applications: Customer segmentation, Grouping experiment outcomes\n",
    "* Dimensionality reduction 数据降维\n",
    "* Model selection 模型选择\n",
    "* Preprocessing 数据预处理\n",
    "\n",
    "### dataset\n",
    "* training set\n",
    "* testing set\n",
    "\n",
    "### Misc\n",
    "另一方面，Scikit-learn也有缺点。例如它不支持深度学习和强化学习，这在今天已经是应用非常广泛的技术，例如准确的图像分类和可靠的实时语音识别和语义理解等。此外，它也不支持图模型和序列预测，不支持Python之外的语言，不支持PyPy，也不支持GPU加速。\n",
    "\n",
    "### supervised learning\n",
    "* Collect Training Data -> Train Classifier -> Make Predictions\n",
    "\n",
    "* many kinds of classifiers\n",
    "    * Artificial neural network\n",
    "    * Support Vector Machine\n",
    "    * etc\n",
    "\n",
    "### Training Data\n",
    "\n",
    "| Weight | Texture | Label |\n",
    "| --- | --- | --- |\n",
    "| 150g | Bumpy | Orage |\n",
    "| 170g | Bumpy | Orage |\n",
    "| 140g | Smooth | Apple |\n",
    "| 130g | Smooth | Apple |\n",
    "\n",
    "* the whole table is our training data\n",
    "* **features**: Weight, Texture\n",
    "* **examples**: each row of the table"
   ]
  },
  {
   "cell_type": "markdown",
   "metadata": {},
   "source": [
    "![machine learning map](ml_map.png)"
   ]
  },
  {
   "cell_type": "code",
   "execution_count": 8,
   "metadata": {},
   "outputs": [
    {
     "name": "stdout",
     "output_type": "stream",
     "text": [
      "[1]\n"
     ]
    }
   ],
   "source": [
    "from sklearn import tree\n",
    "\n",
    "# collect training data\n",
    "textureNames = {0: 'Bumpy', 1:'Smooth'}\n",
    "labelNames = {0: 'Apple', 1: 'Orange'}\n",
    "features = [[150, 0], [170, 0], [140, 1], [130, 1]]\n",
    "lables = [1,1,0,0]\n",
    "\n",
    "# training classifier\n",
    "clf = tree.DecisionTreeClassifier()\n",
    "clf = clf.fit(features, lables)\n",
    "\n",
    "# make predictions\n",
    "print(clf.predict([[150,0]]))"
   ]
  },
  {
   "cell_type": "markdown",
   "metadata": {},
   "source": [
    "## have a try with Iris data\n",
    "Iris has 150 samples, 4 features\n",
    "* 4 features\n",
    "    * sepal length 花萼长度\n",
    "    * sepal width  花萼宽度\n",
    "    * petal length 花瓣长度\n",
    "    * petal width  花瓣宽度\n",
    "* 3 targets\n",
    "    * setosa 山鸢尾花       0\n",
    "    * versicolor 变色鸢尾花   1\n",
    "    * virginica 维吉尼亚鸢尾花 2"
   ]
  },
  {
   "cell_type": "code",
   "execution_count": 23,
   "metadata": {},
   "outputs": [
    {
     "data": {
      "text/plain": [
       "<matplotlib.collections.PathCollection at 0x7f3394e591d0>"
      ]
     },
     "execution_count": 23,
     "metadata": {},
     "output_type": "execute_result"
    },
    {
     "data": {
      "image/png": "[encoded data removed]",
      "text/plain": [
       "<Figure size 432x288 with 1 Axes>"
      ]
     },
     "metadata": {},
     "output_type": "display_data"
    }
   ],
   "source": [
    "%matplotlib inline\n",
    "\n",
    "import numpy as np\n",
    "from sklearn.datasets import load_iris\n",
    "import matplotlib.pyplot as plt\n",
    "\n",
    "iris = load_iris()\n",
    "print(iris.feature_names)\n",
    "print(iris.target_names)\n",
    "print(iris.data[0])\n",
    "print(iris.target[0])\n",
    "\n",
    "features = iris.data\n",
    "target = iris.target\n",
    "# print(features)\n",
    "# note below 3 plts will be combined into one chart\n",
    "for t,marker,c in zip(range(3), '>ox', 'rgb'):\n",
    "    plt.scatter(features[target == t, 0],\n",
    "               features[target == t, 1],\n",
    "               marker = marker,\n",
    "               c = c)"
   ]
  },
  {
   "cell_type": "code",
   "execution_count": 20,
   "metadata": {},
   "outputs": [
    {
     "name": "stdout",
     "output_type": "stream",
     "text": [
      "[0 1 2]\n",
      "[0 1 2]\n"
     ]
    }
   ],
   "source": [
    "import numpy as np\n",
    "from sklearn.datasets import load_iris\n",
    "\n",
    "iris = load_iris()\n",
    "test_idx = [0, 50, 100] #select 3 samples as test data\n",
    "\n",
    "# training data\n",
    "train_target = np.delete(iris.target, test_idx)\n",
    "train_data = np.delete(iris.data, test_idx, axis=0)\n",
    "\n",
    "# testing data\n",
    "test_target = iris.target[test_idx]\n",
    "test_data = iris.data[test_idx]\n",
    "\n",
    "# training classifier\n",
    "clf = tree.DecisionTreeClassifier()\n",
    "clf = clf.fit(train_data, train_target)\n",
    "\n",
    "# make predictions\n",
    "print(test_target)\n",
    "print(clf.predict(test_data))"
   ]
  },
  {
   "cell_type": "markdown",
   "metadata": {},
   "source": [
    "### what makes a good feature?"
   ]
  },
  {
   "cell_type": "code",
   "execution_count": 2,
   "metadata": {},
   "outputs": [
    {
     "name": "stdout",
     "output_type": "stream",
     "text": [
      "[30.00821269 25.0298606  30.5702317  28.60814055]\n",
      "[24.  21.6 34.7 33.4]\n"
     ]
    },
    {
     "data": {
      "image/png": "[encoded data removed]",
      "text/plain": [
       "<matplotlib.figure.Figure at 0x1124084e0>"
      ]
     },
     "metadata": {},
     "output_type": "display_data"
    }
   ],
   "source": [
    "%matplotlib inline\n",
    "\n",
    "from __future__ import print_function\n",
    "from sklearn import datasets\n",
    "from sklearn.linear_model import LinearRegression\n",
    "import matplotlib.pyplot as plt\n",
    "\n",
    "loaded_data = datasets.load_boston() #波士顿房价\n",
    "data_X = loaded_data.data\n",
    "data_y = loaded_data.target\n",
    "\n",
    "model = LinearRegression()\n",
    "model.fit(data_X, data_y)\n",
    "\n",
    "print(model.predict(data_X[:4, :]))\n",
    "print(data_y[:4])\n",
    "\n",
    "X, y = datasets.make_regression(n_samples=100, n_features=1, n_targets=1, noise=10)\n",
    "plt.scatter(X, y)\n",
    "plt.show()"
   ]
  },
  {
   "cell_type": "markdown",
   "metadata": {},
   "source": [
    "## models"
   ]
  },
  {
   "cell_type": "code",
   "execution_count": 6,
   "metadata": {},
   "outputs": [
    {
     "name": "stdout",
     "output_type": "stream",
     "text": [
      "[-1.07170557e-01  4.63952195e-02  2.08602395e-02  2.68856140e+00\n",
      " -1.77957587e+01  3.80475246e+00  7.51061703e-04 -1.47575880e+00\n",
      "  3.05655038e-01 -1.23293463e-02 -9.53463555e-01  9.39251272e-03\n",
      " -5.25466633e-01]\n",
      "36.49110328036104\n"
     ]
    }
   ],
   "source": [
    "%matplotlib inline\n",
    "\n",
    "from sklearn import datasets\n",
    "from sklearn.linear_model import LinearRegression\n",
    "import matplotlib.pyplot as plt\n",
    "\n",
    "loaded_data = datasets.load_boston() #波士顿房价\n",
    "data_X = loaded_data.data\n",
    "data_y = loaded_data.target\n",
    "\n",
    "model = LinearRegression()\n",
    "model.fit(data_X, data_y)\n",
    "\n",
    "# y = 0.1x + 0.3\n",
    "print(model.coef_) # 0.1\n",
    "print(model.intercept_) #0.3"
   ]
  },
  {
   "cell_type": "markdown",
   "metadata": {},
   "source": [
    "## normalization 标准化数据, also called feature scaling\n",
    "通常会在train之前对数据进行提炼，很多时候一个简单算法在提炼过的数据上的表现，会比一个非常复杂的算法在原始数据上的表现会更好。\n",
    "\n",
    "有人也叫这部分工作为feature engineering"
   ]
  },
  {
   "cell_type": "code",
   "execution_count": 5,
   "metadata": {},
   "outputs": [
    {
     "name": "stdout",
     "output_type": "stream",
     "text": [
      "[[  10.     2.7    3.6]\n",
      " [-100.     5.    -1. ]\n",
      " [ 120.    20.    40. ]]\n",
      "[[ 0.         -0.85170713 -0.57797932]\n",
      " [-1.22474487 -0.55187146 -0.82880054]\n",
      " [ 1.22474487  1.40357859  1.40677986]]\n"
     ]
    }
   ],
   "source": [
    "from sklearn import preprocessing\n",
    "import numpy as np\n",
    "\n",
    "a = np.array([[10,2.7,3.6],\n",
    "             [-100,5,-1],\n",
    "             [120,20,40]], dtype=np.float64)\n",
    "\n",
    "print(a)\n",
    "print(preprocessing.scale(a))"
   ]
  },
  {
   "cell_type": "code",
   "execution_count": 13,
   "metadata": {},
   "outputs": [
    {
     "data": {
      "image/png": "[encoded data removed]",
      "text/plain": [
       "<matplotlib.figure.Figure at 0x11350a780>"
      ]
     },
     "metadata": {},
     "output_type": "display_data"
    },
    {
     "name": "stdout",
     "output_type": "stream",
     "text": [
      "accuracy without normalization:  0.5333333333333333\n",
      "accuracy with normalization:  0.9222222222222223\n"
     ]
    }
   ],
   "source": [
    "%matplotlib inline\n",
    "\n",
    "from sklearn import preprocessing\n",
    "import numpy as np\n",
    "from sklearn.model_selection import train_test_split\n",
    "from sklearn.datasets.samples_generator import make_classification\n",
    "from sklearn.svm import SVC\n",
    "import matplotlib.pyplot as plt\n",
    "\n",
    "# generate sample data\n",
    "X, y = make_classification(n_samples=300, n_features=2 , n_redundant=0, n_informative=2,\n",
    "                           random_state=22, n_clusters_per_class=1, scale=100)\n",
    "plt.scatter(X[:, 0], X[:, 1], c=y) #X[:, 0] feature 1, X[:, 1] feature 2\n",
    "plt.show()\n",
    "\n",
    "# split train and test data\n",
    "X_train, X_test, y_train, y_test = train_test_split(X, y, test_size=.3) \n",
    "# our model\n",
    "clf = SVC()\n",
    "# train our model, let our model learn\n",
    "clf.fit(X_train, y_train)\n",
    "# use test data to predict, score is to determin how accurate our prediction is\n",
    "print(\"accuracy without normalization: \", clf.score(X_test, y_test)) \n",
    "\n",
    "# normalization step\n",
    "X = preprocessing.scale(X)\n",
    "X_train, X_test, y_train, y_test = train_test_split(X, y, test_size=.3) \n",
    "clf2 = SVC()\n",
    "clf2.fit(X_train, y_train)\n",
    "print(\"accuracy with normalization: \", clf2.score(X_test, y_test)) "
   ]
  },
  {
   "cell_type": "markdown",
   "metadata": {},
   "source": [
    "## cross validation 交叉验证: train_test分成好多组"
   ]
  },
  {
   "cell_type": "markdown",
   "metadata": {},
   "source": [
    "## nice web sites to learn ML\n",
    "* https://morvanzhou.github.io/"
   ]
  },
  {
   "cell_type": "markdown",
   "metadata": {},
   "source": [
    "## Reinforcement Learning 强化学习\n",
    "* 监督学习是已经有了数据+标签(target, 答案), 强化学习是计算机开始是什么都不懂的，要计算机自己去学\n",
    "* 可以用来自动下棋，玩游戏，etc\n",
    "\n",
    "## Reinforcement Learning Algrithms\n",
    "* Model-Free RL (不理解环境)\n",
    "* Model-Based RL (理解环境)\n",
    "* 通过价值选行为\n",
    "    * Q learning\n",
    "    * Sarsa\n",
    "    * Deep Q Network\n",
    "*  直接选行为\n",
    "    * Policy Gradients"
   ]
  },
  {
   "cell_type": "code",
   "execution_count": null,
   "metadata": {},
   "outputs": [],
   "source": []
  }
 ],
 "metadata": {
  "kernelspec": {
   "display_name": "Python 3",
   "language": "python",
   "name": "python3"
  },
  "language_info": {
   "codemirror_mode": {
    "name": "ipython",
    "version": 3
   },
   "file_extension": ".py",
   "mimetype": "text/x-python",
   "name": "python",
   "nbconvert_exporter": "python",
   "pygments_lexer": "ipython3",
   "version": "3.6.4"
  }
 },
 "nbformat": 4,
 "nbformat_minor": 2
}
