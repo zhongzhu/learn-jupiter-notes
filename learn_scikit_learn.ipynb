{
 "cells": [
  {
   "cell_type": "markdown",
   "metadata": {},
   "source": [
    "## Learn Scikit-Learn\n",
    "\n",
    "### supervised learning\n",
    "* Collect Training Data -> Train Classifier -> Make Predictions\n",
    "\n",
    "* many kinds of classifiers\n",
    "    * Artificial neural network\n",
    "    * Support Vector Machine\n",
    "    * etc\n",
    "\n",
    "### Training Data\n",
    "\n",
    "| Weight | Texture | Label |\n",
    "| --- | --- | --- |\n",
    "| 150g | Bumpy | Orage |\n",
    "| 170g | Bumpy | Orage |\n",
    "| 140g | Smooth | Apple |\n",
    "| 130g | Smooth | Apple |\n",
    "\n",
    "* the whole table is our training data\n",
    "* **features**: Weight, Texture\n",
    "* **examples**: each row of the table"
   ]
  },
  {
   "cell_type": "code",
   "execution_count": 8,
   "metadata": {},
   "outputs": [
    {
     "name": "stdout",
     "output_type": "stream",
     "text": [
      "[1]\n"
     ]
    }
   ],
   "source": [
    "from sklearn import tree\n",
    "\n",
    "# collect training data\n",
    "textureNames = {0: 'Bumpy', 1:'Smooth'}\n",
    "labelNames = {0: 'Apple', 1: 'Orange'}\n",
    "features = [[150, 0], [170, 0], [140, 1], [130, 1]]\n",
    "lables = [1,1,0,0]\n",
    "\n",
    "# training classifier\n",
    "clf = tree.DecisionTreeClassifier()\n",
    "clf = clf.fit(features, lables)\n",
    "\n",
    "# make predictions\n",
    "print(clf.predict([[150,0]]))"
   ]
  },
  {
   "cell_type": "markdown",
   "metadata": {},
   "source": [
    "## have a try with Iris data"
   ]
  },
  {
   "cell_type": "code",
   "execution_count": 16,
   "metadata": {},
   "outputs": [
    {
     "name": "stdout",
     "output_type": "stream",
     "text": [
      "['sepal length (cm)', 'sepal width (cm)', 'petal length (cm)', 'petal width (cm)']\n",
      "['setosa' 'versicolor' 'virginica']\n",
      "[5.1 3.5 1.4 0.2]\n",
      "0\n"
     ]
    }
   ],
   "source": [
    "from sklearn.datasets import load_iris\n",
    "\n",
    "iris = load_iris()\n",
    "print(iris.feature_names)\n",
    "print(iris.target_names)\n",
    "print(iris.data[0])\n",
    "print(iris.target[0])"
   ]
  },
  {
   "cell_type": "code",
   "execution_count": 20,
   "metadata": {},
   "outputs": [
    {
     "name": "stdout",
     "output_type": "stream",
     "text": [
      "[0 1 2]\n",
      "[0 1 2]\n"
     ]
    }
   ],
   "source": [
    "import numpy as np\n",
    "from sklearn.datasets import load_iris\n",
    "\n",
    "iris = load_iris()\n",
    "test_idx = [0, 50, 100] #select 3 samples as test data\n",
    "\n",
    "# training data\n",
    "train_target = np.delete(iris.target, test_idx)\n",
    "train_data = np.delete(iris.data, test_idx, axis=0)\n",
    "\n",
    "# testing data\n",
    "test_target = iris.target[test_idx]\n",
    "test_data = iris.data[test_idx]\n",
    "\n",
    "# training classifier\n",
    "clf = tree.DecisionTreeClassifier()\n",
    "clf = clf.fit(train_data, train_target)\n",
    "\n",
    "# make predictions\n",
    "print(test_target)\n",
    "print(clf.predict(test_data))"
   ]
  },
  {
   "cell_type": "markdown",
   "metadata": {},
   "source": [
    "### what makes a good feature?"
   ]
  },
  {
   "cell_type": "code",
   "execution_count": null,
   "metadata": {},
   "outputs": [],
   "source": []
  }
 ],
 "metadata": {
  "kernelspec": {
   "display_name": "Python 3",
   "language": "python",
   "name": "python3"
  },
  "language_info": {
   "codemirror_mode": {
    "name": "ipython",
    "version": 3
   },
   "file_extension": ".py",
   "mimetype": "text/x-python",
   "name": "python",
   "nbconvert_exporter": "python",
   "pygments_lexer": "ipython3",
   "version": "3.6.4"
  }
 },
 "nbformat": 4,
 "nbformat_minor": 2
}
