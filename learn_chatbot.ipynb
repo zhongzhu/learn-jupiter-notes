{
 "cells": [
  {
   "cell_type": "markdown",
   "metadata": {},
   "source": [
    "# learn ChatBot\n",
    "\n",
    "* 厉害，用美剧的字幕做语料。http://www.shareditor.com/blogshow/?blogId=112\n",
    "\n",
    "## ChatBot engine\n",
    "\n",
    "### ChatterBot\n",
    "* https://github.com/gunthercox/ChatterBot\n",
    "* https://blog.just4fun.site/create-a-smart-chat-bot.html"
   ]
  },
  {
   "cell_type": "markdown",
   "metadata": {},
   "source": [
    "comments from internet\n",
    "```\n",
    "I’ve been playing with both AIML and ChatScript. AIML is very easy to use but not powerful enough if you want to make a chatbot that “looks” intelligent these days. AIML is a very simple pattern language, substantially less complex than regexes and as such less than level 3 Chomsky hierarchy) . ChatScript on the other hand is TOO powerful and learning how to use it may take you a while.\n",
    "\n",
    "And then I found **Artificial Intelligence Scripting Language** , and I love it! Because it is a compromise of simplicity, power and easy to use. Try it and you will love it.\n",
    "```"
   ]
  },
  {
   "cell_type": "markdown",
   "metadata": {},
   "source": [
    "### Artificial Intelligence Scripting Language\n",
    "https://www.rivescript.com"
   ]
  },
  {
   "cell_type": "markdown",
   "metadata": {},
   "source": [
    "### ChatScript\n",
    "* https://github.com/bwilcox-1234/ChatScript\n",
    "* https://medium.freecodecamp.org/chatscript-for-beginners-chatbots-developers-c58bb591da8\n",
    "* http://blog.webbylab.com/how-we-built-ai-for-a-chatbot-in-javascript-and-chatscript/"
   ]
  },
  {
   "cell_type": "code",
   "execution_count": null,
   "metadata": {},
   "outputs": [],
   "source": []
  }
 ],
 "metadata": {
  "kernelspec": {
   "display_name": "Python 3",
   "language": "python",
   "name": "python3"
  },
  "language_info": {
   "codemirror_mode": {
    "name": "ipython",
    "version": 3
   },
   "file_extension": ".py",
   "mimetype": "text/x-python",
   "name": "python",
   "nbconvert_exporter": "python",
   "pygments_lexer": "ipython3",
   "version": "3.6.4"
  }
 },
 "nbformat": 4,
 "nbformat_minor": 2
}
