{
 "cells": [
  {
   "cell_type": "markdown",
   "metadata": {},
   "source": [
    "## Learn to run MySQL with Docker\n",
    "\n",
    "### pull MySQL 5.7\n",
    "* docker pull mysql:5.7\n",
    "\n",
    "### run it\n",
    "* mkdir /Users/zhuzhong/workspace/mydatabase\n",
    "* docker run -p 3306:3306 --rm --name mydb -d -v /Users/zhuzhong/workspace/mydatabase:/var/lib/mysql -e MYSQL_ROOT_PASSWORD=haha mysql:5.7\n",
    "    * --rm Automatically remove the container when it exits\n",
    "    * -v Bind mount a volume\n",
    "    * -p Publish a container's port(s) to the host\n",
    "    * -e Set environment variables\n",
    "    * --name Assign a name to the container"
   ]
  },
  {
   "cell_type": "markdown",
   "metadata": {},
   "source": [
    "## Connect to MySQL from the MySQL command line client\n",
    "* check host IP\n",
    "* docker run -it --rm mysql:5.7 mysql -h192.168.1.14 -uroot -p\n",
    "* in mysql shell\n",
    "\n",
    "```\n",
    "mysql> CREATE SCHEMA `haha` DEFAULT CHARACTER SET utf8 ;\n",
    "mysql> use haha;\n",
    "mysql> CREATE TABLE `students` (\n",
    "    ->   `id` INT NOT NULL AUTO_INCREMENT,\n",
    "    ->   `name` VARCHAR(45) NOT NULL,\n",
    "    ->   PRIMARY KEY (`id`));\n",
    "mysql> insert into students(name) values ('henry'), ('jack'), ('tom'),('mike');\n",
    "mysql> select * from students where name='henry'\n",
    "```\n",
    "* ctrl+d to exit mysql shell"
   ]
  },
  {
   "cell_type": "markdown",
   "metadata": {},
   "source": [
    "## Using a custom MySQL configuration file\n",
    "\n",
    "if you have a custom mysql config file /user/zhuzhong/custom/config-file.cnf, you can run as below\n",
    "* docker run --name mydb -v /user/zhuzhong/custom:/etc/mysql/conf.d -e MYSQL_ROOT_PASSWORD=my-secret-pw -d mysql:5.7\n",
    "\n",
    "## config without a cnf file\n",
    "* docker run --name mydb -e MYSQL_ROOT_PASSWORD=my-secret-pw -d mysql:5.7 --character-set-server=utf8mb4 --collation-server=utf8mb4_unicode_ci"
   ]
  },
  {
   "cell_type": "code",
   "execution_count": null,
   "metadata": {},
   "outputs": [],
   "source": []
  }
 ],
 "metadata": {
  "kernelspec": {
   "display_name": "Python 3",
   "language": "python",
   "name": "python3"
  },
  "language_info": {
   "codemirror_mode": {
    "name": "ipython",
    "version": 3
   },
   "file_extension": ".py",
   "mimetype": "text/x-python",
   "name": "python",
   "nbconvert_exporter": "python",
   "pygments_lexer": "ipython3",
   "version": "3.6.4"
  }
 },
 "nbformat": 4,
 "nbformat_minor": 2
}
