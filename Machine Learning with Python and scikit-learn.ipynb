{
 "cells": [
  {
   "cell_type": "markdown",
   "metadata": {},
   "source": [
    "## LEARNING PATH: Machine Learning with Python and scikit-learn \n",
    "* https://www.safaribooksonline.com/learning-paths/learning-path-machine/9781789536911/\n",
    "* This path navigates across the following products (in sequential order):\n",
    "    * Fundamentals of Machine Learning with scikit-learn (2h 33m)\n",
    "    * Hands-On Machine Learning with Python and Scikit-Learn (2h 39m)\n",
    "    * Learn Machine Learning in 3 Hours (2h 14m)\n",
    "* related code https://github.com/PacktPublishing/Fundamentals-of-Machine-Learning-with-scikit-learn"
   ]
  },
  {
   "cell_type": "markdown",
   "metadata": {},
   "source": [
    "## three types of learning\n",
    "* supervised learning\n",
    "* unsupervised learning\n",
    "* reinforcement learning\n",
    "    * feedback(reward) provided by environment,比如自动打游戏\n",
    "    * understand whether certain action performed is positive or not"
   ]
  },
  {
   "cell_type": "markdown",
   "metadata": {},
   "source": [
    "## 训练\n",
    "* underfitting\n",
    "* normal fitting\n",
    "* overfitting\n"
   ]
  },
  {
   "cell_type": "code",
   "execution_count": null,
   "metadata": {},
   "outputs": [],
   "source": []
  }
 ],
 "metadata": {
  "kernelspec": {
   "display_name": "Python 3",
   "language": "python",
   "name": "python3"
  },
  "language_info": {
   "codemirror_mode": {
    "name": "ipython",
    "version": 3
   },
   "file_extension": ".py",
   "mimetype": "text/x-python",
   "name": "python",
   "nbconvert_exporter": "python",
   "pygments_lexer": "ipython3",
   "version": "3.6.4"
  }
 },
 "nbformat": 4,
 "nbformat_minor": 2
}
