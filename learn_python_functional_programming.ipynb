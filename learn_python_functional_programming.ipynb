{
 "cells": [
  {
   "cell_type": "markdown",
   "metadata": {},
   "source": [
    "## learn_python_functional_programming"
   ]
  },
  {
   "cell_type": "markdown",
   "metadata": {},
   "source": [
    "### procedural style"
   ]
  },
  {
   "cell_type": "code",
   "execution_count": 2,
   "metadata": {},
   "outputs": [],
   "source": [
    "OPERATORS = ('+', '-', '*', '/')\n",
    "\n",
    "def main():\n",
    "    print('Welcome to the procedural Calculator Program')\n",
    "    number1 = getNumber()\n",
    "    op = getOperator()\n",
    "    number2 = getNumber()\n",
    "    result = calculate(number1, op, number2)\n",
    "    print('The result is {}'.format(result))\n",
    "    \n",
    "def getNumber():\n",
    "    while True:\n",
    "        s = input(\"Enter an integer: \")\n",
    "        try:\n",
    "            return int(s)\n",
    "        except ValueError:\n",
    "            print(\"That's not an integer\")\n",
    "\n",
    "def getOperator():\n",
    "    while True:\n",
    "        s = input(\"Enter an operator ( +, -, *, /): \")\n",
    "        if s in OPERATORS:\n",
    "            return s\n",
    "        print(\"That's not an operator\")\n",
    "        \n",
    "def calculate(number1, op, number2):\n",
    "    if op == '+':\n",
    "        return number1 + number2\n",
    "    elif op == '-':\n",
    "        return number1 - number2\n",
    "    elif op == '*':\n",
    "        return number1 * number2\n",
    "    elif op == '/':\n",
    "        return number1 / number2\n",
    "    else:\n",
    "        raise Exception('Invalid Operator!')"
   ]
  },
  {
   "cell_type": "markdown",
   "metadata": {},
   "source": [
    "### funcitional style"
   ]
  },
  {
   "cell_type": "code",
   "execution_count": null,
   "metadata": {},
   "outputs": [],
   "source": []
  },
  {
   "cell_type": "code",
   "execution_count": null,
   "metadata": {},
   "outputs": [],
   "source": []
  }
 ],
 "metadata": {
  "kernelspec": {
   "display_name": "Python 3",
   "language": "python",
   "name": "python3"
  },
  "language_info": {
   "codemirror_mode": {
    "name": "ipython",
    "version": 3
   },
   "file_extension": ".py",
   "mimetype": "text/x-python",
   "name": "python",
   "nbconvert_exporter": "python",
   "pygments_lexer": "ipython3",
   "version": "3.6.4"
  }
 },
 "nbformat": 4,
 "nbformat_minor": 2
}
