{
 "cells": [
  {
   "cell_type": "markdown",
   "metadata": {},
   "source": [
    "## learn_python_functional_programming"
   ]
  },
  {
   "cell_type": "markdown",
   "metadata": {},
   "source": [
    "### procedural style"
   ]
  },
  {
   "cell_type": "code",
   "execution_count": 5,
   "metadata": {},
   "outputs": [
    {
     "name": "stdout",
     "output_type": "stream",
     "text": [
      "Welcome to the procedural Calculator Program\n",
      "Enter an integer: 12\n",
      "Enter an operator ( +, -, *, /): jfkds\n",
      "That's not an operator\n",
      "Enter an operator ( +, -, *, /): 3\n",
      "That's not an operator\n",
      "Enter an operator ( +, -, *, /): /\n",
      "Enter an integer: 21\n",
      "The result is 0.5714285714285714\n"
     ]
    }
   ],
   "source": [
    "OPERATORS = ('+', '-', '*', '/')\n",
    "\n",
    "def main():\n",
    "    print('Welcome to the procedural Calculator Program')\n",
    "    number1 = getNumber()\n",
    "    op = getOperator()\n",
    "    number2 = getNumber()\n",
    "    result = calculate(number1, op, number2)\n",
    "    print('The result is {}'.format(result))\n",
    "    \n",
    "def getNumber():\n",
    "    while True:\n",
    "        s = input(\"Enter an integer: \")\n",
    "        try:\n",
    "            return int(s)\n",
    "        except ValueError:\n",
    "            print(\"That's not an integer\")\n",
    "\n",
    "def getOperator():\n",
    "    while True:\n",
    "        s = input(\"Enter an operator ( +, -, *, /): \")\n",
    "        if s in OPERATORS:\n",
    "            return s\n",
    "        print(\"That's not an operator\")\n",
    "        \n",
    "def calculate(number1, op, number2):\n",
    "    if op == '+':\n",
    "        return number1 + number2\n",
    "    elif op == '-':\n",
    "        return number1 - number2\n",
    "    elif op == '*':\n",
    "        return number1 * number2\n",
    "    elif op == '/':\n",
    "        return number1 / number2\n",
    "    else:\n",
    "        raise Exception('Invalid Operator!')\n",
    "        \n",
    "main()"
   ]
  },
  {
   "cell_type": "markdown",
   "metadata": {},
   "source": [
    "### funcitional style"
   ]
  },
  {
   "cell_type": "code",
   "execution_count": 7,
   "metadata": {},
   "outputs": [
    {
     "name": "stdout",
     "output_type": "stream",
     "text": [
      "Enter an integer: qw\n"
     ]
    },
    {
     "ename": "ValueError",
     "evalue": "invalid literal for int() with base 10: 'qw'",
     "output_type": "error",
     "traceback": [
      "\u001b[0;31m---------------------------------------------------------------------------\u001b[0m",
      "\u001b[0;31mValueError\u001b[0m                                Traceback (most recent call last)",
      "\u001b[0;32m<ipython-input-7-bb17a54db99e>\u001b[0m in \u001b[0;36m<module>\u001b[0;34m()\u001b[0m\n\u001b[1;32m     14\u001b[0m     \u001b[0;32mreturn\u001b[0m \u001b[0mf_calculate\u001b[0m\u001b[0;34m(\u001b[0m\u001b[0mf_getNumber\u001b[0m\u001b[0;34m(\u001b[0m\u001b[0;34m)\u001b[0m\u001b[0;34m,\u001b[0m \u001b[0mf_getOperator\u001b[0m\u001b[0;34m(\u001b[0m\u001b[0;34m)\u001b[0m\u001b[0;34m,\u001b[0m \u001b[0mf_getNumber\u001b[0m\u001b[0;34m(\u001b[0m\u001b[0;34m)\u001b[0m\u001b[0;34m)\u001b[0m\u001b[0;34m\u001b[0m\u001b[0m\n\u001b[1;32m     15\u001b[0m \u001b[0;34m\u001b[0m\u001b[0m\n\u001b[0;32m---> 16\u001b[0;31m \u001b[0mprint\u001b[0m\u001b[0;34m(\u001b[0m\u001b[0;34m'The result is {}'\u001b[0m\u001b[0;34m.\u001b[0m\u001b[0mformat\u001b[0m\u001b[0;34m(\u001b[0m\u001b[0mf_main\u001b[0m\u001b[0;34m(\u001b[0m\u001b[0;34m)\u001b[0m\u001b[0;34m)\u001b[0m\u001b[0;34m)\u001b[0m\u001b[0;34m\u001b[0m\u001b[0m\n\u001b[0m",
      "\u001b[0;32m<ipython-input-7-bb17a54db99e>\u001b[0m in \u001b[0;36mf_main\u001b[0;34m()\u001b[0m\n\u001b[1;32m     12\u001b[0m \u001b[0;34m\u001b[0m\u001b[0m\n\u001b[1;32m     13\u001b[0m \u001b[0;32mdef\u001b[0m \u001b[0mf_main\u001b[0m\u001b[0;34m(\u001b[0m\u001b[0;34m)\u001b[0m\u001b[0;34m:\u001b[0m\u001b[0;34m\u001b[0m\u001b[0m\n\u001b[0;32m---> 14\u001b[0;31m     \u001b[0;32mreturn\u001b[0m \u001b[0mf_calculate\u001b[0m\u001b[0;34m(\u001b[0m\u001b[0mf_getNumber\u001b[0m\u001b[0;34m(\u001b[0m\u001b[0;34m)\u001b[0m\u001b[0;34m,\u001b[0m \u001b[0mf_getOperator\u001b[0m\u001b[0;34m(\u001b[0m\u001b[0;34m)\u001b[0m\u001b[0;34m,\u001b[0m \u001b[0mf_getNumber\u001b[0m\u001b[0;34m(\u001b[0m\u001b[0;34m)\u001b[0m\u001b[0;34m)\u001b[0m\u001b[0;34m\u001b[0m\u001b[0m\n\u001b[0m\u001b[1;32m     15\u001b[0m \u001b[0;34m\u001b[0m\u001b[0m\n\u001b[1;32m     16\u001b[0m \u001b[0mprint\u001b[0m\u001b[0;34m(\u001b[0m\u001b[0;34m'The result is {}'\u001b[0m\u001b[0;34m.\u001b[0m\u001b[0mformat\u001b[0m\u001b[0;34m(\u001b[0m\u001b[0mf_main\u001b[0m\u001b[0;34m(\u001b[0m\u001b[0;34m)\u001b[0m\u001b[0;34m)\u001b[0m\u001b[0;34m)\u001b[0m\u001b[0;34m\u001b[0m\u001b[0m\n",
      "\u001b[0;32m<ipython-input-7-bb17a54db99e>\u001b[0m in \u001b[0;36mf_getNumber\u001b[0;34m()\u001b[0m\n\u001b[1;32m      5\u001b[0m \u001b[0;34m\u001b[0m\u001b[0m\n\u001b[1;32m      6\u001b[0m \u001b[0;32mdef\u001b[0m \u001b[0mf_getNumber\u001b[0m\u001b[0;34m(\u001b[0m\u001b[0;34m)\u001b[0m\u001b[0;34m:\u001b[0m\u001b[0;34m\u001b[0m\u001b[0m\n\u001b[0;32m----> 7\u001b[0;31m     \u001b[0;32mreturn\u001b[0m \u001b[0mint\u001b[0m\u001b[0;34m(\u001b[0m\u001b[0minput\u001b[0m\u001b[0;34m(\u001b[0m\u001b[0;34m'Enter an integer: '\u001b[0m\u001b[0;34m)\u001b[0m\u001b[0;34m)\u001b[0m\u001b[0;34m\u001b[0m\u001b[0m\n\u001b[0m\u001b[1;32m      8\u001b[0m \u001b[0;34m\u001b[0m\u001b[0m\n\u001b[1;32m      9\u001b[0m \u001b[0;32mdef\u001b[0m \u001b[0mf_getOperator\u001b[0m\u001b[0;34m(\u001b[0m\u001b[0;34m)\u001b[0m\u001b[0;34m:\u001b[0m\u001b[0;34m\u001b[0m\u001b[0m\n",
      "\u001b[0;31mValueError\u001b[0m: invalid literal for int() with base 10: 'qw'"
     ]
    }
   ],
   "source": [
    "OPERATORS = ('+', '-', '*', '/')\n",
    "\n",
    "def f_calculate(number1, op, number2):\n",
    "    return number1 + number2 if op == '+' \\\n",
    "        else number1 - number2 if op == '-' \\\n",
    "        else number1 * number2 if op == '*' \\\n",
    "        else number1 / number2 if op == '/' \\\n",
    "        else None\n",
    "        \n",
    "def f_getNumber():\n",
    "    return int(input('Enter an integer: '))\n",
    "\n",
    "def f_getOperator():\n",
    "    return input('Enter an Operator: ')\n",
    "\n",
    "\n",
    "def f_main():\n",
    "    return f_calculate(f_getNumber(), f_getOperator(), f_getNumber())\n",
    "\n",
    "print('The result is {}'.format(f_main()))"
   ]
  },
  {
   "cell_type": "markdown",
   "metadata": {},
   "source": [
    "### factorial - procedure"
   ]
  },
  {
   "cell_type": "code",
   "execution_count": 10,
   "metadata": {},
   "outputs": [
    {
     "name": "stdout",
     "output_type": "stream",
     "text": [
      "Enter an integer: 0\n"
     ]
    },
    {
     "data": {
      "text/plain": [
       "1"
      ]
     },
     "execution_count": 10,
     "metadata": {},
     "output_type": "execute_result"
    }
   ],
   "source": [
    "n = int(input(\"Enter an integer: \"))\n",
    "\n",
    "def factorial(n):\n",
    "    f = 1\n",
    "    for i in range(1, n + 1):\n",
    "        f *= i\n",
    "    \n",
    "    return f\n",
    "\n",
    "factorial(n)  #factorial(3) = 1*2*3=6"
   ]
  },
  {
   "cell_type": "markdown",
   "metadata": {},
   "source": [
    "### factorial - recursion"
   ]
  },
  {
   "cell_type": "code",
   "execution_count": 6,
   "metadata": {},
   "outputs": [
    {
     "name": "stdout",
     "output_type": "stream",
     "text": [
      "6\n"
     ]
    }
   ],
   "source": [
    "def f_factorial(n):\n",
    "    return 1 if n == 0 else n * f_factorial(n - 1)\n",
    "\n",
    "print(f_factorial(3)) # 1*2*3=6"
   ]
  },
  {
   "cell_type": "code",
   "execution_count": 12,
   "metadata": {},
   "outputs": [
    {
     "data": {
      "text/plain": [
       "6"
      ]
     },
     "execution_count": 12,
     "metadata": {},
     "output_type": "execute_result"
    }
   ],
   "source": [
    "l_f = lambda n: 1 if n == 0 else n*l_f(n-1)\n",
    "l_f(3)"
   ]
  },
  {
   "cell_type": "markdown",
   "metadata": {},
   "source": [
    "### lambda\n",
    "* map(aFunction, aSequence)\n",
    "* filter(aFunction, aSequence)\n",
    "* reduce(aFunction, aSequence)\n",
    "* lambda\n",
    "* list comprehension"
   ]
  },
  {
   "cell_type": "code",
   "execution_count": 8,
   "metadata": {},
   "outputs": [
    {
     "data": {
      "text/plain": [
       "1.4142135623730951"
      ]
     },
     "execution_count": 8,
     "metadata": {},
     "output_type": "execute_result"
    }
   ],
   "source": [
    "from math import sqrt\n",
    "\n",
    "def haha(x, y):\n",
    "    return sqrt(x**2 + y**2)\n",
    "\n",
    "haha(1,1)"
   ]
  },
  {
   "cell_type": "code",
   "execution_count": 9,
   "metadata": {},
   "outputs": [
    {
     "data": {
      "text/plain": [
       "1.4142135623730951"
      ]
     },
     "execution_count": 9,
     "metadata": {},
     "output_type": "execute_result"
    }
   ],
   "source": [
    "(lambda x,y: sqrt(x**2 + y**2))(1,1)"
   ]
  },
  {
   "cell_type": "code",
   "execution_count": 10,
   "metadata": {},
   "outputs": [
    {
     "data": {
      "text/plain": [
       "1.4142135623730951"
      ]
     },
     "execution_count": 10,
     "metadata": {},
     "output_type": "execute_result"
    }
   ],
   "source": [
    "hihi = lambda x,y: sqrt(x**2 + y**2)\n",
    "hihi(1,1)"
   ]
  },
  {
   "cell_type": "code",
   "execution_count": 20,
   "metadata": {},
   "outputs": [
    {
     "name": "stdout",
     "output_type": "stream",
     "text": [
      "[0, 2, 4, 6]\n"
     ]
    }
   ],
   "source": [
    "l = [0, 1, 2, 3]\n",
    "#list(map(lambda x: x*2, l))\n",
    "print([*map(lambda x: x*2, l)])"
   ]
  },
  {
   "cell_type": "markdown",
   "metadata": {},
   "source": [
    "### filter"
   ]
  },
  {
   "cell_type": "code",
   "execution_count": 2,
   "metadata": {},
   "outputs": [
    {
     "name": "stdout",
     "output_type": "stream",
     "text": [
      "[-5, -4, -3, -2, -1]\n"
     ]
    }
   ],
   "source": [
    "result = []\n",
    "for i in range(-5, 5):\n",
    "    if i < 0:\n",
    "        result.append(i)\n",
    "print(result)"
   ]
  },
  {
   "cell_type": "code",
   "execution_count": 1,
   "metadata": {},
   "outputs": [
    {
     "name": "stdout",
     "output_type": "stream",
     "text": [
      "[-5, -4, -3, -2, -1]\n"
     ]
    }
   ],
   "source": [
    "print(list(filter(lambda x:x<0, range(-5,5))))  # pick out items less than zero"
   ]
  },
  {
   "cell_type": "markdown",
   "metadata": {},
   "source": [
    "### intersection of lists"
   ]
  },
  {
   "cell_type": "code",
   "execution_count": 5,
   "metadata": {},
   "outputs": [
    {
     "name": "stdout",
     "output_type": "stream",
     "text": [
      "[2, 4]\n"
     ]
    }
   ],
   "source": [
    "a = [1,2,4,6,9]\n",
    "b = [2,3,4,5,7,8]\n",
    "print(list(filter(lambda x:x in b, a)))"
   ]
  },
  {
   "cell_type": "code",
   "execution_count": 6,
   "metadata": {},
   "outputs": [
    {
     "name": "stdout",
     "output_type": "stream",
     "text": [
      "[2, 4]\n"
     ]
    }
   ],
   "source": [
    "a = [1,2,4,6,9]\n",
    "b = [2,3,4,5,7,8]\n",
    "print([x for x in a if x in b])"
   ]
  },
  {
   "cell_type": "markdown",
   "metadata": {},
   "source": [
    "### reduce"
   ]
  },
  {
   "cell_type": "code",
   "execution_count": 7,
   "metadata": {},
   "outputs": [
    {
     "data": {
      "text/plain": [
       "24"
      ]
     },
     "execution_count": 7,
     "metadata": {},
     "output_type": "execute_result"
    }
   ],
   "source": [
    "from functools import reduce\n",
    "reduce(lambda x, y: x * y, [1, 2, 3, 4])"
   ]
  },
  {
   "cell_type": "markdown",
   "metadata": {},
   "source": [
    "### factorial again\n",
    "* 0! = 1, 1! = 1, 2!=2*1*1"
   ]
  },
  {
   "cell_type": "code",
   "execution_count": 1,
   "metadata": {},
   "outputs": [
    {
     "data": {
      "text/plain": [
       "120"
      ]
     },
     "execution_count": 1,
     "metadata": {},
     "output_type": "execute_result"
    }
   ],
   "source": [
    "l_factorial = lambda n: 1 if n == 0 else n * l_factorial(n-1)\n",
    "l_factorial(5) #120"
   ]
  },
  {
   "cell_type": "code",
   "execution_count": 3,
   "metadata": {},
   "outputs": [
    {
     "name": "stdout",
     "output_type": "stream",
     "text": [
      "Took 0.00173 s\n"
     ]
    }
   ],
   "source": [
    "import time\n",
    "\n",
    "t0 = time.time()\n",
    "l_factorial(900)\n",
    "t1 = time.time()\n",
    "print('Took {:.5f} s'.format(t1 - t0))"
   ]
  },
  {
   "cell_type": "code",
   "execution_count": 4,
   "metadata": {},
   "outputs": [
    {
     "name": "stdout",
     "output_type": "stream",
     "text": [
      "Took 0.00261 s\n"
     ]
    }
   ],
   "source": [
    "def timer(fuc, arg):\n",
    "    t0 = time.time()\n",
    "    fuc(arg)\n",
    "    t1 = time.time()\n",
    "    \n",
    "    return t1 - t0\n",
    "\n",
    "print('Took {:.5f} s'.format(timer(l_factorial, 900)))"
   ]
  },
  {
   "cell_type": "code",
   "execution_count": 5,
   "metadata": {},
   "outputs": [
    {
     "name": "stdout",
     "output_type": "stream",
     "text": [
      "Took 0.00095 s\n"
     ]
    }
   ],
   "source": [
    "l_timestamp = lambda fnc, arg: (time.time(), fnc(arg), time.time())\n",
    "l_diff = lambda t0, retval, t1: t1 - t0\n",
    "l_timer = lambda fnc, arg: l_diff(*l_timestamp(fnc, arg))\n",
    "\n",
    "print('Took {:.5f} s'.format(l_timer(l_factorial, 900)))"
   ]
  },
  {
   "cell_type": "markdown",
   "metadata": {},
   "source": [
    "### function returns another function"
   ]
  },
  {
   "cell_type": "code",
   "execution_count": 7,
   "metadata": {},
   "outputs": [
    {
     "name": "stdout",
     "output_type": "stream",
     "text": [
      "open the fridge\n",
      "put the elephant in the fridge\n",
      "close the fridge\n"
     ]
    }
   ],
   "source": [
    "open_fridge = lambda: print('open the fridge')\n",
    "put_elephant_in = lambda: print('put the elephant in the fridge')\n",
    "close_fridge = lambda: print('close the fridge')\n",
    "\n",
    "def create_recipe(*functions):  # use * to show functions is a list\n",
    "    def run_all():\n",
    "        for fuc in functions:\n",
    "            fuc()\n",
    "    \n",
    "    return run_all\n",
    "\n",
    "how_to_put_an_elephant_in_a_fridge = create_recipe(open_fridge, put_elephant_in, close_fridge)\n",
    "\n",
    "how_to_put_an_elephant_in_a_fridge()"
   ]
  },
  {
   "cell_type": "markdown",
   "metadata": {},
   "source": [
    "### chainning functions"
   ]
  },
  {
   "cell_type": "code",
   "execution_count": 8,
   "metadata": {},
   "outputs": [
    {
     "data": {
      "text/plain": [
       "12"
      ]
     },
     "execution_count": 8,
     "metadata": {},
     "output_type": "execute_result"
    }
   ],
   "source": [
    "l_factorial = lambda n: 1 if n == 0 else n * l_factorial(n-1)\n",
    "\n",
    "def chain_mul(*what):\n",
    "    total = 1\n",
    "    for fuc, arg in what:\n",
    "        total *= fuc(arg)\n",
    "        \n",
    "    return total\n",
    "\n",
    "chain_mul((l_factorial, 2), (l_factorial, 3))"
   ]
  },
  {
   "cell_type": "code",
   "execution_count": 11,
   "metadata": {},
   "outputs": [
    {
     "data": {
      "text/plain": [
       "12"
      ]
     },
     "execution_count": 11,
     "metadata": {},
     "output_type": "execute_result"
    }
   ],
   "source": [
    "import operator\n",
    "\n",
    "def chain(how, *what):\n",
    "    total = 1\n",
    "    for fuc, arg in what:\n",
    "        total = how(total, fuc(arg))\n",
    "        \n",
    "    return total\n",
    "\n",
    "chain(operator.mul, (l_factorial, 2), (l_factorial, 3))"
   ]
  },
  {
   "cell_type": "code",
   "execution_count": 40,
   "metadata": {},
   "outputs": [
    {
     "data": {
      "text/plain": [
       "0.3333333333333333"
      ]
     },
     "execution_count": 40,
     "metadata": {},
     "output_type": "execute_result"
    }
   ],
   "source": [
    "from functools import reduce\n",
    "import operator\n",
    "\n",
    "l_factorial = lambda n: 1 if n == 0 else n * l_factorial(n-1)\n",
    "\n",
    "def chain2(how, fuc, args):\n",
    "    return reduce(lambda x,y: how(x,y), map(fuc, args))\n",
    "    \n",
    "chain2(operator.mul, l_factorial, [2, 3])\n",
    "chain2(operator.truediv, l_factorial, [2, 3])"
   ]
  },
  {
   "cell_type": "markdown",
   "metadata": {},
   "source": [
    "### decorator "
   ]
  },
  {
   "cell_type": "code",
   "execution_count": 41,
   "metadata": {},
   "outputs": [
    {
     "data": {
      "text/plain": [
       "0.0015649795532226562"
      ]
     },
     "execution_count": 41,
     "metadata": {},
     "output_type": "execute_result"
    }
   ],
   "source": [
    "import time\n",
    "\n",
    "def factorial(n):\n",
    "    return 1 if n == 0 else n * l_factorial(n-1)\n",
    "\n",
    "def timer(fuc):\n",
    "    def inner(arg):\n",
    "        t0 = time.time()\n",
    "        fuc(arg)\n",
    "        t1 = time.time()\n",
    "        \n",
    "        return t1 - t0\n",
    "    \n",
    "    return inner\n",
    "\n",
    "timed_factorial = timer(factorial)\n",
    "timed_factorial(500)"
   ]
  },
  {
   "cell_type": "code",
   "execution_count": 42,
   "metadata": {},
   "outputs": [
    {
     "data": {
      "text/plain": [
       "0.0002906322479248047"
      ]
     },
     "execution_count": 42,
     "metadata": {},
     "output_type": "execute_result"
    }
   ],
   "source": [
    "import time\n",
    "\n",
    "@timer\n",
    "def timed_factorial(n):\n",
    "    return 1 if n == 0 else n * l_factorial(n-1)\n",
    "\n",
    "def timer(fuc):\n",
    "    def inner(arg):\n",
    "        t0 = time.time()\n",
    "        fuc(arg)\n",
    "        t1 = time.time()\n",
    "        \n",
    "        return t1 - t0\n",
    "    \n",
    "    return inner\n",
    "\n",
    "timed_factorial(500)"
   ]
  },
  {
   "cell_type": "markdown",
   "metadata": {},
   "source": [
    "### decorator with arguments"
   ]
  },
  {
   "cell_type": "code",
   "execution_count": 44,
   "metadata": {},
   "outputs": [
    {
     "data": {
      "text/plain": [
       "0.11587142944335938"
      ]
     },
     "execution_count": 44,
     "metadata": {},
     "output_type": "execute_result"
    }
   ],
   "source": [
    "import time\n",
    "\n",
    "def factorial(n):\n",
    "    return 1 if n == 0 else n * l_factorial(n-1)\n",
    "\n",
    "def timer_with_arguments(units='s'): \n",
    "    def timer(fuc):\n",
    "        def inner(arg):\n",
    "            t0 = time.time()\n",
    "            fuc(arg)\n",
    "            t1 = time.time()\n",
    "            diff = t1 - t0\n",
    "            return diff if units == 's' else diff * 1000 \n",
    "        \n",
    "        return inner\n",
    "    \n",
    "    return timer\n",
    "\n",
    "timed_factorial = timer_with_arguments(units='s')(factorial)\n",
    "timed_factorial(100)\n",
    "\n",
    "timed_factorial = timer_with_arguments(units='ms')(factorial)\n",
    "timed_factorial(100)"
   ]
  },
  {
   "cell_type": "code",
   "execution_count": 47,
   "metadata": {},
   "outputs": [
    {
     "data": {
      "text/plain": [
       "0.07486343383789062"
      ]
     },
     "execution_count": 47,
     "metadata": {},
     "output_type": "execute_result"
    }
   ],
   "source": [
    "import time\n",
    "\n",
    "@timer_with_arguments(units='ms')\n",
    "def factorial(n):\n",
    "    return 1 if n == 0 else n * l_factorial(n-1)\n",
    "\n",
    "def timer_with_arguments(units='s'): \n",
    "    def timer(fuc):\n",
    "        def inner(arg):\n",
    "            t0 = time.time()\n",
    "            fuc(arg)\n",
    "            t1 = time.time()\n",
    "            diff = t1 - t0\n",
    "            \n",
    "            return diff if units == 's' else diff * 1000 \n",
    "        \n",
    "        return inner\n",
    "    \n",
    "    return timer\n",
    "\n",
    "factorial(100)"
   ]
  },
  {
   "cell_type": "markdown",
   "metadata": {},
   "source": [
    "### currying"
   ]
  },
  {
   "cell_type": "code",
   "execution_count": 48,
   "metadata": {},
   "outputs": [
    {
     "name": "stdout",
     "output_type": "stream",
     "text": [
      "1110\n"
     ]
    }
   ],
   "source": [
    "def add(a, b, c):\n",
    "    return a + b + c\n",
    "    \n",
    "print(add(10, 100, 1000))"
   ]
  },
  {
   "cell_type": "code",
   "execution_count": 49,
   "metadata": {},
   "outputs": [
    {
     "name": "stdout",
     "output_type": "stream",
     "text": [
      "1110\n"
     ]
    }
   ],
   "source": [
    "from functools import partial\n",
    "\n",
    "add_10 = partial(add,10)\n",
    "add_10_100 = partial(add_10, 100)\n",
    "print(add_10_100(1000))"
   ]
  },
  {
   "cell_type": "code",
   "execution_count": 51,
   "metadata": {},
   "outputs": [
    {
     "name": "stdout",
     "output_type": "stream",
     "text": [
      "1110\n",
      "1110\n"
     ]
    }
   ],
   "source": [
    "from inspect import signature\n",
    "\n",
    "def curry(fnc):\n",
    "    \n",
    "    def inner(arg):\n",
    "        if len(signature(fnc).parameters) == 1:\n",
    "            return fnc(arg)\n",
    "        \n",
    "        return curry(partial(fnc, arg))\n",
    "    \n",
    "    return inner\n",
    "\n",
    "@curry\n",
    "def add(a, b, c):\n",
    "    return a + b + c\n",
    "\n",
    "print(add(10)(100)(1000))\n",
    "\n",
    "add_10 = add(10)\n",
    "add_10_100 = add_10(100)\n",
    "print(add_10_100(1000))"
   ]
  },
  {
   "cell_type": "markdown",
   "metadata": {},
   "source": [
    "### monads\n",
    "* nan (not a number) monad\n",
    "* MayBe monad\n",
    "* List monad"
   ]
  },
  {
   "cell_type": "markdown",
   "metadata": {},
   "source": [
    "#### nan"
   ]
  },
  {
   "cell_type": "code",
   "execution_count": null,
   "metadata": {},
   "outputs": [],
   "source": []
  }
 ],
 "metadata": {
  "kernelspec": {
   "display_name": "Python 3",
   "language": "python",
   "name": "python3"
  },
  "language_info": {
   "codemirror_mode": {
    "name": "ipython",
    "version": 3
   },
   "file_extension": ".py",
   "mimetype": "text/x-python",
   "name": "python",
   "nbconvert_exporter": "python",
   "pygments_lexer": "ipython3",
   "version": "3.6.4"
  }
 },
 "nbformat": 4,
 "nbformat_minor": 2
}
