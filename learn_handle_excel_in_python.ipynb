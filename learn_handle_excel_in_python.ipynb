{
 "cells": [
  {
   "cell_type": "markdown",
   "metadata": {},
   "source": [
    "## openpyxl - A Python library to read/write Excel 2010 xlsx/xlsm files"
   ]
  },
  {
   "cell_type": "markdown",
   "metadata": {},
   "source": [
    "pip install openpyxl"
   ]
  },
  {
   "cell_type": "markdown",
   "metadata": {},
   "source": [
    "### Manipulating a workbook in memory"
   ]
  },
  {
   "cell_type": "code",
   "execution_count": 1,
   "metadata": {},
   "outputs": [],
   "source": [
    "from openpyxl import Workbook\n",
    "\n",
    "wb = Workbook()\n",
    "ws = wb.active #get the 1st active worksheet\n",
    "ws.title = 'students'\n",
    "\n",
    "ws1 = wb['students'] # get worksheet by title\n",
    "ws1['A1'] = 'id'\n",
    "ws1['B1'] = 'name'\n",
    "ws1['A2'] = 1\n",
    "ws1['B2'] = 'henry'\n",
    "ws1['A3'] = 2\n",
    "ws1['B3'] = 'Jack'\n",
    "\n",
    "wb.save('haha.xlsx') # save to excel file"
   ]
  },
  {
   "cell_type": "code",
   "execution_count": null,
   "metadata": {},
   "outputs": [],
   "source": []
  }
 ],
 "metadata": {
  "kernelspec": {
   "display_name": "Python 3",
   "language": "python",
   "name": "python3"
  },
  "language_info": {
   "codemirror_mode": {
    "name": "ipython",
    "version": 3
   },
   "file_extension": ".py",
   "mimetype": "text/x-python",
   "name": "python",
   "nbconvert_exporter": "python",
   "pygments_lexer": "ipython3",
   "version": "3.6.4"
  }
 },
 "nbformat": 4,
 "nbformat_minor": 2
}
