{
 "cells": [
  {
   "cell_type": "markdown",
   "metadata": {},
   "source": [
    "## openpyxl - A Python library to read/write Excel 2010 xlsx/xlsm files"
   ]
  },
  {
   "cell_type": "markdown",
   "metadata": {},
   "source": [
    "pip install openpyxl"
   ]
  },
  {
   "cell_type": "markdown",
   "metadata": {},
   "source": [
    "### Manipulating a workbook in memory"
   ]
  },
  {
   "cell_type": "code",
   "execution_count": 25,
   "metadata": {},
   "outputs": [],
   "source": [
    "from openpyxl import Workbook\n",
    "\n",
    "wb = Workbook()\n",
    "ws = wb.active #get the 1st active worksheet\n",
    "ws.title = 'students'\n",
    "\n",
    "ws1 = wb['students'] # get worksheet by sheet name\n",
    "ws1['A1'] = 'id'\n",
    "ws1['B1'] = 'name'\n",
    "\n",
    "ws1['A2'] = 1\n",
    "ws1['B2'] = 'henry'\n",
    "\n",
    "ws1.append([2, 'Jack'])      # values for all columns\n",
    "ws1.append({1:3, 2:'Mike'})  #key is the column index\n",
    "ws1.append({'A':4, 'B':'Peter'}) #key is the column letter\n",
    "\n",
    "ws1.cell(column=1, row=6, value=5)\n",
    "ws1.cell(column=2, row=6, value='Tom')\n",
    "\n",
    "\n",
    "wb.save('haha.xlsx') # save to excel file"
   ]
  },
  {
   "cell_type": "code",
   "execution_count": 26,
   "metadata": {},
   "outputs": [
    {
     "name": "stdout",
     "output_type": "stream",
     "text": [
      "['students']\n",
      "id\n",
      "name\n",
      "1\n",
      "henry\n",
      "2\n",
      "Jack\n",
      "3\n",
      "Mike\n",
      "4\n",
      "Peter\n",
      "5\n",
      "Tom\n"
     ]
    }
   ],
   "source": [
    "from openpyxl import load_workbook\n",
    "\n",
    "wb = load_workbook('haha.xlsx')\n",
    "print(wb.sheetnames)\n",
    "ws = wb['students']\n",
    "\n",
    "for row in ws.rows:\n",
    "    for cell in row:\n",
    "        print(cell.value)       "
   ]
  },
  {
   "cell_type": "code",
   "execution_count": 33,
   "metadata": {},
   "outputs": [
    {
     "name": "stdout",
     "output_type": "stream",
     "text": [
      "id name\n",
      "1 henry\n",
      "2 Jack\n",
      "3 Mike\n",
      "4 Peter\n",
      "5 Tom\n"
     ]
    }
   ],
   "source": [
    "for row in ws.rows:   # row is a tuple\n",
    "    print(row[0].value, row[1].value)"
   ]
  },
  {
   "cell_type": "code",
   "execution_count": 27,
   "metadata": {},
   "outputs": [
    {
     "name": "stdout",
     "output_type": "stream",
     "text": [
      "id\n",
      "1\n",
      "2\n",
      "3\n",
      "4\n",
      "5\n",
      "name\n",
      "henry\n",
      "Jack\n",
      "Mike\n",
      "Peter\n",
      "Tom\n"
     ]
    }
   ],
   "source": [
    "for col in ws.columns:\n",
    "    for cell in col:\n",
    "        print(cell.value)"
   ]
  },
  {
   "cell_type": "code",
   "execution_count": 12,
   "metadata": {},
   "outputs": [
    {
     "data": {
      "text/plain": [
       "((<Cell 'students'.A1>, <Cell 'students'.B1>),\n",
       " (<Cell 'students'.A2>, <Cell 'students'.B2>),\n",
       " (<Cell 'students'.A3>, <Cell 'students'.B3>))"
      ]
     },
     "execution_count": 12,
     "metadata": {},
     "output_type": "execute_result"
    }
   ],
   "source": [
    "tuple(ws.rows)"
   ]
  },
  {
   "cell_type": "code",
   "execution_count": 14,
   "metadata": {},
   "outputs": [
    {
     "data": {
      "text/plain": [
       "((<Cell 'students'.A1>, <Cell 'students'.A2>, <Cell 'students'.A3>),\n",
       " (<Cell 'students'.B1>, <Cell 'students'.B2>, <Cell 'students'.B3>))"
      ]
     },
     "execution_count": 14,
     "metadata": {},
     "output_type": "execute_result"
    }
   ],
   "source": [
    "tuple(ws.columns)"
   ]
  },
  {
   "cell_type": "markdown",
   "metadata": {},
   "source": [
    "### find a value in the excel file"
   ]
  },
  {
   "cell_type": "code",
   "execution_count": 34,
   "metadata": {},
   "outputs": [
    {
     "name": "stdout",
     "output_type": "stream",
     "text": [
      "row: 6 column: B\n"
     ]
    }
   ],
   "source": [
    "for row in ws.rows:\n",
    "    if row[1].value == 'Tom':\n",
    "        print('row:',row[1].row, 'column:',row[1].column)"
   ]
  },
  {
   "cell_type": "code",
   "execution_count": null,
   "metadata": {},
   "outputs": [],
   "source": []
  }
 ],
 "metadata": {
  "kernelspec": {
   "display_name": "Python 3",
   "language": "python",
   "name": "python3"
  },
  "language_info": {
   "codemirror_mode": {
    "name": "ipython",
    "version": 3
   },
   "file_extension": ".py",
   "mimetype": "text/x-python",
   "name": "python",
   "nbconvert_exporter": "python",
   "pygments_lexer": "ipython3",
   "version": "3.6.4"
  }
 },
 "nbformat": 4,
 "nbformat_minor": 2
}
