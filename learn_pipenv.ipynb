{
 "cells": [
  {
   "cell_type": "markdown",
   "metadata": {},
   "source": [
    "# learn pipenv\n",
    "## pipenv = pip + virtualenv\n",
    "### install it\n",
    "* pip3 install pipenv\n",
    "* mkdir learn_flask && cd learn_flask\n",
    "* pipenv --three  # env is for python3\n",
    "* pipenv install flask  #install packages for this project\n",
    "* export FLASK_APP=./learn_flask/index.py\n",
    "* source $(pipenv --venv)/bin/activate\n",
    "* flask run"
   ]
  },
  {
   "cell_type": "code",
   "execution_count": null,
   "metadata": {},
   "outputs": [],
   "source": []
  }
 ],
 "metadata": {
  "kernelspec": {
   "display_name": "Python 3",
   "language": "python",
   "name": "python3"
  },
  "language_info": {
   "codemirror_mode": {
    "name": "ipython",
    "version": 3
   },
   "file_extension": ".py",
   "mimetype": "text/x-python",
   "name": "python",
   "nbconvert_exporter": "python",
   "pygments_lexer": "ipython3",
   "version": "3.6.4"
  }
 },
 "nbformat": 4,
 "nbformat_minor": 2
}
