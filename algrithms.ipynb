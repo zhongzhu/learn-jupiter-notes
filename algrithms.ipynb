{
 "cells": [
  {
   "cell_type": "markdown",
   "metadata": {},
   "source": [
    "# Let's learn jupyter notebook"
   ]
  },
  {
   "cell_type": "markdown",
   "metadata": {},
   "source": [
    "## Binary Search "
   ]
  },
  {
   "cell_type": "markdown",
   "metadata": {},
   "source": [
    "### the big O: O(log n)  -> O(log 2 n)"
   ]
  },
  {
   "cell_type": "code",
   "execution_count": 1,
   "metadata": {},
   "outputs": [
    {
     "name": "stdout",
     "output_type": "stream",
     "text": [
      "7\n"
     ]
    }
   ],
   "source": [
    "def binary_search(l, item):\n",
    "    low = 0\n",
    "    high = len(l) - 1\n",
    "    \n",
    "    while low <= high:\n",
    "        mid = (low + high) // 2\n",
    "        guess = l[mid]\n",
    "        if guess == item:\n",
    "            return mid\n",
    "        if guess > item:\n",
    "            high = mid - 1\n",
    "        else:\n",
    "            low = mid + 1\n",
    "    return None\n",
    "\n",
    "my_list = [1,3,5,7,9,10,11,14,16,18,19,20]\n",
    "print(binary_search(my_list, 14))"
   ]
  },
  {
   "cell_type": "markdown",
   "metadata": {},
   "source": [
    "## Selection Search"
   ]
  },
  {
   "cell_type": "markdown",
   "metadata": {},
   "source": [
    "O(N*N)"
   ]
  },
  {
   "cell_type": "code",
   "execution_count": 5,
   "metadata": {},
   "outputs": [
    {
     "name": "stdout",
     "output_type": "stream",
     "text": [
      "[1, 5, 2, 11, 9, 8, 15]\n",
      "[1, 2, 5, 8, 9, 11, 15]\n",
      "[]\n"
     ]
    }
   ],
   "source": [
    "def findIndexForSmallest(arr):\n",
    "    smallest = arr[0]\n",
    "    smallest_idx = 0\n",
    "    \n",
    "    for i in range(len(arr)):\n",
    "        if arr[i] < smallest:\n",
    "            smallest = arr[i]\n",
    "            smallest_idx = i\n",
    "\n",
    "    return smallest_idx\n",
    "\n",
    "def selectionSearch(arr):\n",
    "    newArr = []\n",
    "    \n",
    "    while len(arr) > 0:\n",
    "        newArr.append(arr.pop(findIndexForSmallest(arr)))\n",
    "        \n",
    "    return newArr\n",
    "\n",
    "arr = [1, 5,2,11,9,8,15]\n",
    "print(arr)\n",
    "print(selectionSearch(arr))\n",
    "print(arr)"
   ]
  },
  {
   "cell_type": "code",
   "execution_count": null,
   "metadata": {},
   "outputs": [],
   "source": []
  }
 ],
 "metadata": {
  "kernelspec": {
   "display_name": "Python 3",
   "language": "python",
   "name": "python3"
  },
  "language_info": {
   "codemirror_mode": {
    "name": "ipython",
    "version": 3
   },
   "file_extension": ".py",
   "mimetype": "text/x-python",
   "name": "python",
   "nbconvert_exporter": "python",
   "pygments_lexer": "ipython3",
   "version": "3.6.4"
  }
 },
 "nbformat": 4,
 "nbformat_minor": 2
}
